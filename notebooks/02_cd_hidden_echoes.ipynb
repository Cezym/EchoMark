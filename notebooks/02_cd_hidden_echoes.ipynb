{
 "cells": [
  {
   "cell_type": "code",
   "execution_count": 29,
   "id": "eb136213-5b21-4b28-bdd2-09552e3e8998",
   "metadata": {},
   "outputs": [],
   "source": [
    "import librosa\n",
    "import sounddevice as sd\n",
    "import numpy as np\n",
    "import os\n",
    "\n",
    "# Wczytaj przykładowy plik audio z Librosy\n",
    "data, sr = librosa.load(librosa.ex('nutcracker'))"
   ]
  },
  {
   "cell_type": "code",
   "execution_count": 30,
   "id": "e8d279b3-be2f-4f45-9fe3-e4f324a041a0",
   "metadata": {},
   "outputs": [],
   "source": [
    "def add_echo_to_audio(data, alpha, delta):\n",
    "    \"\"\"Dodaje echo do sygnału audio.\n",
    "\n",
    "    Kopiuje sygnał i dodaje echo do każdego kanału (mono lub stereo) według formuły: x[n] + alpha * x[n - delta].\n",
    "    Obsługuje sygnały mono i stereo. Nie normalizuje sygnału.\n",
    "\n",
    "    Args:\n",
    "        data (numpy.ndarray): Sygnał audio, tablica 1D (mono) lub 2D (stereo, shape: [próbki, kanały]).\n",
    "        alpha (float): Siła echa (np. 0.4 dla umiarkowanego echa).\n",
    "        delta (int): Opóźnienie echa w próbkach (np. 100 dla ~2.3 ms przy 44.1 kHz).\n",
    "\n",
    "    Returns:\n",
    "        numpy.ndarray: Sygnał z dodanym echem, ten sam kształt co wejściowy.\n",
    "\n",
    "    Raises:\n",
    "        ValueError: Gdy data jest pusta lub delta jest ujemne/zero.\n",
    "        TypeError: Gdy data nie jest tablicą numpy.ndarray.\n",
    "\n",
    "    Example:\n",
    "        >>> import numpy as np\n",
    "        >>> signal = np.zeros(1000)  # Mono, 1000 próbek\n",
    "        >>> signal[0] = 1.0\n",
    "        >>> echoed = add_echo_to_audio(signal, alpha=0.4, delta=100)\n",
    "        >>> print(echoed[100])  # Powinno być 0.4\n",
    "    \"\"\"\n",
    "    \n",
    "    # Sygnał wejściowy\n",
    "    output = np.copy(data)\n",
    "\n",
    "    if len(data.shape) > 1:\n",
    "        # Dodaj echo do każdego kanału: x[n] + alpha * x[n - delta]\n",
    "        for channel in range(data.shape[1]):  # Iteruj po kanałach (0: lewy, 1: prawy)\n",
    "            for i in range(delta, len(data)):\n",
    "                output[i, channel] += alpha * data[i - delta, channel]\n",
    "    else:\n",
    "        # Dodaj echo do kanału\n",
    "        for i in range(delta, len(data)):\n",
    "                output[i] += alpha * data[i - delta]\n",
    "            \n",
    "    return output"
   ]
  },
  {
   "cell_type": "code",
   "execution_count": 31,
   "id": "a0fa2e8b-8e22-40d9-a8ff-2cdf688b7782",
   "metadata": {},
   "outputs": [],
   "source": [
    "def add_echo_to_file(input_file, output_file, alpha, delta):\n",
    "    \"\"\"Dodaje echo do pliku audio.\n",
    "\n",
    "    Wczytuje plik audio, dodaje echo do każdego kanału sygnału i zapisuje wynik w rozszerzeniu pliku wyjściowego.\n",
    "    Echo jest dodawane jako: x[n] + alpha * x[n - delta]. Sygnał jest normalizowany,\n",
    "    aby uniknąć przesterowania.\n",
    "\n",
    "    Args:\n",
    "        input_file (str): Ścieżka do wejściowego pliku audio (mono lub stereo).\n",
    "        output_file (str): Ścieżka do pliku wyjściowego WAV.\n",
    "        alpha (float): Siła echa (np. 0.4 dla umiarkowanego echa).\n",
    "        delta (int): Opóźnienie echa w próbkach (np. 100 dla ~2.3 ms przy 44.1 kHz).\n",
    "\n",
    "    Returns:\n",
    "        None: Funkcja zapisuje plik WAV z echem.\n",
    "\n",
    "    Raises:\n",
    "        FileNotFoundError: Gdy plik wejściowy nie istnieje.\n",
    "        RuntimeError: Gdy zapis pliku wyjściowego nie powiedzie się.\n",
    "\n",
    "    Example:\n",
    "        >>> add_echo(\"input.wav\", \"output.wav\", alpha=0.4, delta=100)\n",
    "        # Dodaje echo o sile 0.4 z opóźnieniem 100 próbek do input.wav\n",
    "        # Zapisuje wynik w output.wav\n",
    "    \"\"\"\n",
    "    \n",
    "    # Wczytaj plik audio\n",
    "    data, sr = librosa.load(input_file)\n",
    "\n",
    "    # Dodaj echo do sygnału\n",
    "    output = add_echo_to_audio(data, alpha, delta)\n",
    "\n",
    "    # Normalizuj sygnał, aby uniknąć przesterowania\n",
    "    output = np.clip(output, -32768, 32767)  # Dla 16-bitowego WAV\n",
    "\n",
    "    # Zapisz plik wyjściowy\n",
    "    extension = os.path.splitext(output_file)[-1].lower().lstrip(\".\")\n",
    "    output.export(output_file, format=extension)"
   ]
  },
  {
   "cell_type": "code",
   "execution_count": 32,
   "id": "fc6e4eea-90c7-4044-9031-7c91cf3ede9e",
   "metadata": {},
   "outputs": [],
   "source": [
    "alpha = 0.4\n",
    "delta = 75\n",
    "output = add_echo_to_audio(data, alpha, delta)"
   ]
  },
  {
   "cell_type": "code",
   "execution_count": null,
   "id": "83280c0d-cb0c-4ea4-acd5-1b818e15a062",
   "metadata": {},
   "outputs": [],
   "source": [
    "sd.play(output, sr)\n",
    "sd.wait()"
   ]
  }
 ],
 "metadata": {
  "kernelspec": {
   "display_name": "EchoMark",
   "language": "python",
   "name": "echomark"
  },
  "language_info": {
   "codemirror_mode": {
    "name": "ipython",
    "version": 3
   },
   "file_extension": ".py",
   "mimetype": "text/x-python",
   "name": "python",
   "nbconvert_exporter": "python",
   "pygments_lexer": "ipython3",
   "version": "3.12.9"
  }
 },
 "nbformat": 4,
 "nbformat_minor": 5
}
